{
  "nbformat": 4,
  "nbformat_minor": 0,
  "metadata": {
    "colab": {
      "provenance": []
    },
    "kernelspec": {
      "name": "python3",
      "display_name": "Python 3"
    },
    "language_info": {
      "name": "python"
    }
  },
  "cells": [
    {
      "cell_type": "code",
      "execution_count": 3,
      "metadata": {
        "colab": {
          "base_uri": "https://localhost:8080/"
        },
        "id": "vojVkehgl3WO",
        "outputId": "4b25a9da-f8ae-4b1e-c605-e4594a22d132"
      },
      "outputs": [
        {
          "output_type": "stream",
          "name": "stdout",
          "text": [
            "Looking in indexes: https://pypi.org/simple, https://us-python.pkg.dev/colab-wheels/public/simple/\n",
            "Requirement already satisfied: imageio-ffmpeg in /usr/local/lib/python3.7/dist-packages (0.4.7)\n"
          ]
        }
      ],
      "source": [
        "!pip install imageio-ffmpeg\n"
      ]
    },
    {
      "cell_type": "code",
      "source": [
        "!pip install moviepy\n"
      ],
      "metadata": {
        "colab": {
          "base_uri": "https://localhost:8080/"
        },
        "id": "4f8i0ljRmkJC",
        "outputId": "6640db18-13ce-4002-e71f-f456c44a39e5"
      },
      "execution_count": 8,
      "outputs": [
        {
          "output_type": "stream",
          "name": "stdout",
          "text": [
            "Looking in indexes: https://pypi.org/simple, https://us-python.pkg.dev/colab-wheels/public/simple/\n",
            "Requirement already satisfied: moviepy in /usr/local/lib/python3.7/dist-packages (0.2.3.5)\n",
            "Requirement already satisfied: imageio<3.0,>=2.1.2 in /usr/local/lib/python3.7/dist-packages (from moviepy) (2.9.0)\n",
            "Requirement already satisfied: numpy in /usr/local/lib/python3.7/dist-packages (from moviepy) (1.21.6)\n",
            "Requirement already satisfied: tqdm<5.0,>=4.11.2 in /usr/local/lib/python3.7/dist-packages (from moviepy) (4.64.1)\n",
            "Requirement already satisfied: decorator<5.0,>=4.0.2 in /usr/local/lib/python3.7/dist-packages (from moviepy) (4.4.2)\n",
            "Requirement already satisfied: pillow in /usr/local/lib/python3.7/dist-packages (from imageio<3.0,>=2.1.2->moviepy) (7.1.2)\n"
          ]
        }
      ]
    },
    {
      "cell_type": "code",
      "source": [
        "!pip install show moviepy"
      ],
      "metadata": {
        "colab": {
          "base_uri": "https://localhost:8080/"
        },
        "id": "VuMckjX2sHdo",
        "outputId": "b7cb96ee-a69c-45bd-e797-4616c3ec98e8"
      },
      "execution_count": 1,
      "outputs": [
        {
          "output_type": "stream",
          "name": "stdout",
          "text": [
            "Looking in indexes: https://pypi.org/simple, https://us-python.pkg.dev/colab-wheels/public/simple/\n",
            "Requirement already satisfied: show in /usr/local/lib/python3.7/dist-packages (1.6.0)\n",
            "Requirement already satisfied: moviepy in /usr/local/lib/python3.7/dist-packages (0.2.3.5)\n",
            "Requirement already satisfied: readline in /usr/local/lib/python3.7/dist-packages (from show) (6.2.4.1)\n",
            "Requirement already satisfied: ipython in /usr/local/lib/python3.7/dist-packages (from show) (7.9.0)\n",
            "Requirement already satisfied: mementos>=1.2.5 in /usr/local/lib/python3.7/dist-packages (from show) (1.3.1)\n",
            "Requirement already satisfied: six>=1.10 in /usr/local/lib/python3.7/dist-packages (from show) (1.12.0)\n",
            "Requirement already satisfied: options>=1.4.6 in /usr/local/lib/python3.7/dist-packages (from show) (1.4.10)\n",
            "Requirement already satisfied: say>=1.5.0 in /usr/local/lib/python3.7/dist-packages (from show) (1.6.6)\n",
            "Requirement already satisfied: textdata in /usr/local/lib/python3.7/dist-packages (from show) (2.4.1)\n",
            "Requirement already satisfied: pygments>=2.2.0 in /usr/local/lib/python3.7/dist-packages (from show) (2.6.1)\n",
            "Requirement already satisfied: nulltype~=2.3.1 in /usr/local/lib/python3.7/dist-packages (from options>=1.4.6->show) (2.3.1)\n",
            "Requirement already satisfied: chainmap~=1.0.3 in /usr/local/lib/python3.7/dist-packages (from options>=1.4.6->show) (1.0.3)\n",
            "Requirement already satisfied: combomethod~=1.0.12 in /usr/local/lib/python3.7/dist-packages (from options>=1.4.6->show) (1.0.12)\n",
            "Requirement already satisfied: simplere>=1.2.13 in /usr/local/lib/python3.7/dist-packages (from say>=1.5.0->show) (1.2.13)\n",
            "Requirement already satisfied: ansicolors>=1.1.8 in /usr/local/lib/python3.7/dist-packages (from say>=1.5.0->show) (1.1.8)\n",
            "Requirement already satisfied: ansiwrap>=0.8.4 in /usr/local/lib/python3.7/dist-packages (from say>=1.5.0->show) (0.8.4)\n",
            "Requirement already satisfied: textwrap3>=0.9.2 in /usr/local/lib/python3.7/dist-packages (from ansiwrap>=0.8.4->say>=1.5.0->show) (0.9.2)\n",
            "Requirement already satisfied: tqdm<5.0,>=4.11.2 in /usr/local/lib/python3.7/dist-packages (from moviepy) (4.64.1)\n",
            "Requirement already satisfied: numpy in /usr/local/lib/python3.7/dist-packages (from moviepy) (1.21.6)\n",
            "Requirement already satisfied: imageio<3.0,>=2.1.2 in /usr/local/lib/python3.7/dist-packages (from moviepy) (2.9.0)\n",
            "Requirement already satisfied: decorator<5.0,>=4.0.2 in /usr/local/lib/python3.7/dist-packages (from moviepy) (4.4.2)\n",
            "Requirement already satisfied: pillow in /usr/local/lib/python3.7/dist-packages (from imageio<3.0,>=2.1.2->moviepy) (7.1.2)\n",
            "Requirement already satisfied: traitlets>=4.2 in /usr/local/lib/python3.7/dist-packages (from ipython->show) (5.1.1)\n",
            "Requirement already satisfied: prompt-toolkit<2.1.0,>=2.0.0 in /usr/local/lib/python3.7/dist-packages (from ipython->show) (2.0.10)\n",
            "Requirement already satisfied: backcall in /usr/local/lib/python3.7/dist-packages (from ipython->show) (0.2.0)\n",
            "Requirement already satisfied: setuptools>=18.5 in /usr/local/lib/python3.7/dist-packages (from ipython->show) (57.4.0)\n",
            "Requirement already satisfied: jedi>=0.10 in /usr/local/lib/python3.7/dist-packages (from ipython->show) (0.18.1)\n",
            "Requirement already satisfied: pexpect in /usr/local/lib/python3.7/dist-packages (from ipython->show) (4.8.0)\n",
            "Requirement already satisfied: pickleshare in /usr/local/lib/python3.7/dist-packages (from ipython->show) (0.7.5)\n",
            "Requirement already satisfied: parso<0.9.0,>=0.8.0 in /usr/local/lib/python3.7/dist-packages (from jedi>=0.10->ipython->show) (0.8.3)\n",
            "Requirement already satisfied: wcwidth in /usr/local/lib/python3.7/dist-packages (from prompt-toolkit<2.1.0,>=2.0.0->ipython->show) (0.2.5)\n",
            "Requirement already satisfied: ptyprocess>=0.5 in /usr/local/lib/python3.7/dist-packages (from pexpect->ipython->show) (0.7.0)\n",
            "Requirement already satisfied: intspan in /usr/local/lib/python3.7/dist-packages (from textdata->show) (1.6.1)\n"
          ]
        }
      ]
    },
    {
      "cell_type": "code",
      "source": [
        "\n",
        "\n",
        "\n"
      ],
      "metadata": {
        "id": "1gFLhuSOsfgG"
      },
      "execution_count": 4,
      "outputs": []
    },
    {
      "cell_type": "code",
      "source": [
        "!pip3 install imageio==2.4.1\n",
        "!pip install --upgrade imageio-ffmpeg\n"
      ],
      "metadata": {
        "colab": {
          "base_uri": "https://localhost:8080/"
        },
        "id": "G2lVrHvzuDuG",
        "outputId": "134b668b-fa6f-4cd0-ef2b-0006ec670a30"
      },
      "execution_count": 1,
      "outputs": [
        {
          "output_type": "stream",
          "name": "stdout",
          "text": [
            "Looking in indexes: https://pypi.org/simple, https://us-python.pkg.dev/colab-wheels/public/simple/\n",
            "Requirement already satisfied: imageio==2.4.1 in /usr/local/lib/python3.7/dist-packages (2.4.1)\n",
            "Requirement already satisfied: pillow in /usr/local/lib/python3.7/dist-packages (from imageio==2.4.1) (7.1.2)\n",
            "Requirement already satisfied: numpy in /usr/local/lib/python3.7/dist-packages (from imageio==2.4.1) (1.21.6)\n",
            "Looking in indexes: https://pypi.org/simple, https://us-python.pkg.dev/colab-wheels/public/simple/\n",
            "Requirement already satisfied: imageio-ffmpeg in /usr/local/lib/python3.7/dist-packages (0.4.7)\n"
          ]
        }
      ]
    },
    {
      "cell_type": "code",
      "source": [
        "from moviepy.editor import VideoFileClip\n",
        "from IPython.display import HTML"
      ],
      "metadata": {
        "colab": {
          "base_uri": "https://localhost:8080/"
        },
        "id": "e2vKnWnitr92",
        "outputId": "64da3632-9ff2-464e-818e-1550a386974e"
      },
      "execution_count": 2,
      "outputs": [
        {
          "output_type": "stream",
          "name": "stdout",
          "text": [
            "Imageio: 'ffmpeg-linux64-v3.3.1' was not found on your computer; downloading it now.\n",
            "Try 1. Download from https://github.com/imageio/imageio-binaries/raw/master/ffmpeg/ffmpeg-linux64-v3.3.1 (43.8 MB)\n",
            "Downloading: 8192/45929032 bytes (0.0%)\b\b\b\b\b\b\b\b\b\b\b\b\b\b\b\b\b\b\b\b\b\b\b\b\b\b2686976/45929032 bytes (5.9%)\b\b\b\b\b\b\b\b\b\b\b\b\b\b\b\b\b\b\b\b\b\b\b\b\b\b\b\b\b6275072/45929032 bytes (13.7%)\b\b\b\b\b\b\b\b\b\b\b\b\b\b\b\b\b\b\b\b\b\b\b\b\b\b\b\b\b\b9895936/45929032 bytes (21.5%)\b\b\b\b\b\b\b\b\b\b\b\b\b\b\b\b\b\b\b\b\b\b\b\b\b\b\b\b\b\b13606912/45929032 bytes (29.6%)\b\b\b\b\b\b\b\b\b\b\b\b\b\b\b\b\b\b\b\b\b\b\b\b\b\b\b\b\b\b\b17170432/45929032 bytes (37.4%)\b\b\b\b\b\b\b\b\b\b\b\b\b\b\b\b\b\b\b\b\b\b\b\b\b\b\b\b\b\b\b20398080/45929032 bytes (44.4%)\b\b\b\b\b\b\b\b\b\b\b\b\b\b\b\b\b\b\b\b\b\b\b\b\b\b\b\b\b\b\b23814144/45929032 bytes (51.8%)\b\b\b\b\b\b\b\b\b\b\b\b\b\b\b\b\b\b\b\b\b\b\b\b\b\b\b\b\b\b\b27402240/45929032 bytes (59.7%)\b\b\b\b\b\b\b\b\b\b\b\b\b\b\b\b\b\b\b\b\b\b\b\b\b\b\b\b\b\b\b30818304/45929032 bytes (67.1%)\b\b\b\b\b\b\b\b\b\b\b\b\b\b\b\b\b\b\b\b\b\b\b\b\b\b\b\b\b\b\b34291712/45929032 bytes (74.7%)\b\b\b\b\b\b\b\b\b\b\b\b\b\b\b\b\b\b\b\b\b\b\b\b\b\b\b\b\b\b\b37781504/45929032 bytes (82.3%)\b\b\b\b\b\b\b\b\b\b\b\b\b\b\b\b\b\b\b\b\b\b\b\b\b\b\b\b\b\b\b41459712/45929032 bytes (90.3%)\b\b\b\b\b\b\b\b\b\b\b\b\b\b\b\b\b\b\b\b\b\b\b\b\b\b\b\b\b\b\b44998656/45929032 bytes (98.0%)\b\b\b\b\b\b\b\b\b\b\b\b\b\b\b\b\b\b\b\b\b\b\b\b\b\b\b\b\b\b\b45929032/45929032 bytes (100.0%)\n",
            "  Done\n",
            "File saved as /root/.imageio/ffmpeg/ffmpeg-linux64-v3.3.1.\n"
          ]
        }
      ]
    },
    {
      "cell_type": "code",
      "source": [
        "import matplotlib.pyplot as plt\n",
        "import matplotlib.image as mpimg\n",
        "import numpy as np\n",
        "import cv2\n",
        "%matplotlib inline"
      ],
      "metadata": {
        "id": "G_1lptZDu3VO"
      },
      "execution_count": 4,
      "outputs": []
    },
    {
      "cell_type": "code",
      "source": [
        "def process_image(image, \n",
        "                  kernel_size = 5, \n",
        "                  low_threshold = 100, high_threshold = 250, \n",
        "                  rho = 1, theta = np.pi/180, threshold = 30,\n",
        "                  min_line_len = 100, max_line_gap = 200): \n",
        "    \n",
        "    \n",
        "    #turn in grayscale\n",
        "    gray = grayscale(image)\n",
        "    \n",
        "    #apply blur\n",
        "    blur_gray = gaussian_blur(gray, kernel_size)\n",
        "    \n",
        "    #finding edges\n",
        "    edges = canny(image, low_threshold, high_threshold)\n",
        "    \n",
        "    #setting vertices\n",
        "    vertices = np.array([[(0,image.shape[0]),(450, 315), (490, 315), \n",
        "                          (image.shape[1],image.shape[0])]], dtype=np.int32)\n",
        "    \n",
        "    #creating a region of interest\n",
        "    masked_edges = region_of_interest(edges, vertices)\n",
        "    \n",
        "    #finding lines\n",
        "    lines = hough_lines(masked_edges, rho, theta, threshold, min_line_len, max_line_gap)\n",
        "    \n",
        "    #merge with original image\n",
        "    lines_edges = weighted_img(lines, image, α=0.8, β=1., λ=0.)\n",
        "    \n",
        "    return lines_edges"
      ],
      "metadata": {
        "colab": {
          "base_uri": "https://localhost:8080/",
          "height": 137
        },
        "id": "GssDOZr7vDt9",
        "outputId": "2a517ecd-cebc-49c6-bc52-20bb58ad995c"
      },
      "execution_count": 7,
      "outputs": [
        {
          "output_type": "error",
          "ename": "SyntaxError",
          "evalue": "ignored",
          "traceback": [
            "\u001b[0;36m  File \u001b[0;32m\"<ipython-input-7-39990273cc18>\"\u001b[0;36m, line \u001b[0;32m176\u001b[0m\n\u001b[0;31m    return cv2.addWeighted(initial_img, α, img, β, λ)    return lines_edges\u001b[0m\n\u001b[0m                                                              ^\u001b[0m\n\u001b[0;31mSyntaxError\u001b[0m\u001b[0;31m:\u001b[0m invalid syntax\n"
          ]
        }
      ]
    },
    {
      "cell_type": "code",
      "source": [
        "\n",
        "import math\n",
        "\n",
        "def grayscale(img):\n",
        "    \"\"\"Applies the Grayscale transform\n",
        "    This will return an image with only one color channel\n",
        "    but NOTE: to see the returned image as grayscale\n",
        "    (assuming your grayscaled image is called 'gray')\n",
        "    you should call plt.imshow(gray, cmap='gray')\"\"\"\n",
        "    return cv2.cvtColor(img, cv2.COLOR_RGB2GRAY)\n",
        "    # Or use BGR2GRAY if you read an image with cv2.imread()\n",
        "    # return cv2.cvtColor(img, cv2.COLOR_BGR2GRAY)\n",
        "    \n",
        "def canny(img, low_threshold, high_threshold):\n",
        "    \"\"\"Applies the Canny transform\"\"\"\n",
        "    return cv2.Canny(img, low_threshold, high_threshold)\n",
        "\n",
        "def gaussian_blur(img, kernel_size):\n",
        "    \"\"\"Applies a Gaussian Noise kernel\"\"\"\n",
        "    return cv2.GaussianBlur(img, (kernel_size, kernel_size), 0)\n",
        "\n",
        "def region_of_interest(img, vertices):\n",
        "    \"\"\"\n",
        "    Applies an image mask.\n",
        "    \n",
        "    Only keeps the region of the image defined by the polygon\n",
        "    formed from `vertices`. The rest of the image is set to black.\n",
        "    \"\"\"\n",
        "    #defining a blank mask to start with\n",
        "    mask = np.zeros_like(img)   \n",
        "    \n",
        "    #defining a 3 channel or 1 channel color to fill the mask with depending on the input image\n",
        "    if len(img.shape) > 2:\n",
        "        channel_count = img.shape[2]  # i.e. 3 or 4 depending on your image\n",
        "        ignore_mask_color = (255,) * channel_count\n",
        "    else:\n",
        "        ignore_mask_color = 255\n",
        "        \n",
        "    #filling pixels inside the polygon defined by \"vertices\" with the fill color    \n",
        "    cv2.fillPoly(mask, vertices, ignore_mask_color)\n",
        "    \n",
        "    #returning the image only where mask pixels are nonzero\n",
        "    masked_image = cv2.bitwise_and(img, mask)\n",
        "    return masked_image\n",
        "\n",
        "\"\"\"\n",
        "def draw_lines_m(img, lines, color=[255, 0, 0], thickness=7):\n",
        "    \n",
        "    NOTE: this is the function you might want to use as a starting point once you want to \n",
        "    average/extrapolate the line segments you detect to map out the full\n",
        "    extent of the lane (going from the result shown in raw-lines-example.mp4\n",
        "    to that shown in P1_example.mp4).  \n",
        "    \n",
        "    Think about things like separating line segments by their \n",
        "    slope ((y2-y1)/(x2-x1)) to decide which segments are part of the left\n",
        "    line vs. the right line.  Then, you can average the position of each of \n",
        "    the lines and extrapolate to the top and bottom of the lane.\n",
        "    \n",
        "    This function draws `lines` with `color` and `thickness`.    \n",
        "    Lines are drawn on the image inplace (mutates the image).\n",
        "    If you want to make the lines semi-transparent, think about combining\n",
        "    this function with the weighted_img() function below\n",
        "    \n",
        "    \n",
        "\n",
        "    for line in lines:\n",
        "        for x1,y1,x2,y2 in line:\n",
        "            cv2.line(img, (x1, y1), (x2, y2), color, thickness)\n",
        "            \n",
        "\"\"\"            \n",
        "            \n",
        "def draw_lines(img, lines, color=[255, 0, 0], thickness=7):\n",
        "    \n",
        "     #list to get positives and negatives values\n",
        "    \n",
        "    x_bottom_pos = []\n",
        "    x_upperr_pos = []\n",
        "    x_bottom_neg = []\n",
        "    x_upperr_neg = []\n",
        "    \n",
        "    y_bottom = 540\n",
        "    y_upperr = 315\n",
        "    \n",
        "    #y1 = slope*x1 + b\n",
        "    #b = y1 - slope*x1 \n",
        "    #y = slope*x + b\n",
        "    #x = (y - b)/slope\n",
        "    \n",
        "    slope = 0\n",
        "    b = 0\n",
        "    \n",
        "    #get x upper and bottom to lines with slope positive and negative    \n",
        "    for line in lines:\n",
        "        for x1,y1,x2,y2 in line:\n",
        "            #test and filter values to slope\n",
        "            if ((y2-y1)/(x2-x1)) > 0.5 and ((y2-y1)/(x2-x1)) < 0.8 :\n",
        "                \n",
        "                slope = ((y2-y1)/(x2-x1))\n",
        "                b = y1 - slope*x1\n",
        "                \n",
        "                x_bottom_pos.append((y_bottom - b)/slope)\n",
        "                x_upperr_pos.append((y_upperr - b)/slope)\n",
        "                                      \n",
        "            elif ((y2-y1)/(x2-x1)) < -0.5 and ((y2-y1)/(x2-x1)) > -0.8:\n",
        "            \n",
        "                slope = ((y2-y1)/(x2-x1))\n",
        "                b = y1 - slope*x1\n",
        "                \n",
        "                x_bottom_neg.append((y_bottom - b)/slope)\n",
        "                x_upperr_neg.append((y_upperr - b)/slope)\n",
        "                \n",
        "               \n",
        "    #creating a new 2d array with means\n",
        "    lines_mean = np.array([[int(np.mean(x_bottom_pos)), int(np.mean(y_bottom)), int(np.mean(x_upperr_pos)), int(np.mean(y_upperr))],\n",
        "                           [int(np.mean(x_bottom_neg)), int(np.mean(y_bottom)), int(np.mean(x_upperr_neg)), int(np.mean(y_upperr))]])\n",
        "    \n",
        "    \n",
        "    #Drawing the lines\n",
        "    for i in range(len(lines_mean)):\n",
        "        cv2.line(img, (lines_mean[i,0], lines_mean[i,1]), (lines_mean[i,2], lines_mean[i,3]), color, thickness)\n",
        "                    \n",
        "            \n",
        "def hough_lines(img, rho, theta, threshold, min_line_len, max_line_gap):\n",
        "    \"\"\"\n",
        "    `img` should be the output of a Canny transform.\n",
        "        \n",
        "    Returns an image with hough lines drawn.\n",
        "    \"\"\"\n",
        "    lines = cv2.HoughLinesP(img, rho, theta, threshold, np.array([]), minLineLength=min_line_len, maxLineGap=max_line_gap)\n",
        "    line_img = np.zeros((img.shape[0], img.shape[1], 3), dtype=np.uint8)\n",
        "    draw_lines(line_img, lines)\n",
        "    return line_img\n",
        "\n",
        "# Python 3 has support for cool math symbols.\n",
        "\n",
        "def weighted_img(img, initial_img, α=0.8, β=1., λ=0.):\n",
        "    \"\"\"\n",
        "    `img` is the output of the hough_lines(), An image with lines drawn on it.\n",
        "    Should be a blank image (all black) with lines drawn on it.\n",
        "    \n",
        "    `initial_img` should be the image before any processing.\n",
        "    \n",
        "    The result image is computed as follows:\n",
        "    \n",
        "    initial_img * α + img * β + λ\n",
        "    NOTE: initial_img and img must be the same shape!\n",
        "    \"\"\"\n",
        "    return cv2.addWeighted(initial_img, α, img, β, λ)\n",
        "\n",
        "\n",
        "white_output = '/content/test_videos_output/solidWhiteRight.mp4'\n",
        "## To speed up the testing process you may want to try your pipeline on a shorter subclip of the video\n",
        "## To do so add .subclip(start_second,end_second) to the end of the line below\n",
        "## Where start_second and end_second are integer values representing the start and end of the subclip\n",
        "## You may also uncomment the following line for a subclip of the first 5 seconds\n",
        "##clip1 = VideoFileClip(\"test_videos/solidWhiteRight.mp4\").subclip(0,5)\n",
        "clip1 = VideoFileClip(\"/content/test_videos/solidWhiteRight.mp4\")\n",
        "white_clip = clip1.fl_image(process_image) #NOTE: this function expects color images!!\n",
        "%time white_clip.write_videofile(white_output, audio=False)"
      ],
      "metadata": {
        "colab": {
          "base_uri": "https://localhost:8080/"
        },
        "id": "RsuKJJfZvKI9",
        "outputId": "6ae775d4-9740-4f9f-d8c2-ef067f309982"
      },
      "execution_count": 9,
      "outputs": [
        {
          "output_type": "stream",
          "name": "stdout",
          "text": [
            "[MoviePy] >>>> Building video /content/test_videos_output/solidWhiteRight.mp4\n",
            "[MoviePy] Writing video /content/test_videos_output/solidWhiteRight.mp4\n"
          ]
        },
        {
          "output_type": "stream",
          "name": "stderr",
          "text": [
            "100%|█████████▉| 221/222 [00:10<00:00, 20.09it/s]\n"
          ]
        },
        {
          "output_type": "stream",
          "name": "stdout",
          "text": [
            "[MoviePy] Done.\n",
            "[MoviePy] >>>> Video ready: /content/test_videos_output/solidWhiteRight.mp4 \n",
            "\n",
            "CPU times: user 5.13 s, sys: 535 ms, total: 5.66 s\n",
            "Wall time: 12.6 s\n"
          ]
        }
      ]
    }
  ]
}